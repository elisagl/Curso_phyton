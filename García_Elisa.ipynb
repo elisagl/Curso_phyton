{
  "nbformat": 4,
  "nbformat_minor": 0,
  "metadata": {
    "colab": {
      "provenance": [],
      "authorship_tag": "ABX9TyNfe9PuB99mog3bqsLfyCn4",
      "include_colab_link": true
    },
    "kernelspec": {
      "name": "python3",
      "display_name": "Python 3"
    },
    "language_info": {
      "name": "python"
    }
  },
  "cells": [
    {
      "cell_type": "markdown",
      "metadata": {
        "id": "view-in-github",
        "colab_type": "text"
      },
      "source": [
        "<a href=\"https://colab.research.google.com/github/elisagl/Curso_phyton/blob/main/Garc%C3%ADa_Elisa.ipynb\" target=\"_parent\"><img src=\"https://colab.research.google.com/assets/colab-badge.svg\" alt=\"Open In Colab\"/></a>"
      ]
    },
    {
      "cell_type": "markdown",
      "source": [
        "# Linear Regression"
      ],
      "metadata": {
        "id": "Z3IiDqGmU0hL"
      }
    },
    {
      "cell_type": "markdown",
      "source": [
        "## Simple Linear Regression\n",
        "> Is a comparision of two models:\n",
        ">> <ol>\n",
        "    <li> The independent variable does not even exist </li>\n",
        "    <li> Uses the best fit regression line </li>\n",
        "   </lo>\n",
        "   \n",
        "> Contains\n",
        ">> <ul>\n",
        "    <li> Independent variables (x ais) </li>\n",
        "    <li> Dependent variable (y axis) </li>\n",
        "    </lu>"
      ],
      "metadata": {
        "id": "gk9s0KSzU_wq"
      }
    },
    {
      "cell_type": "markdown",
      "source": [
        "### *Best-fit* line\n",
        "<ul>\n",
        "    <li> With only one variable </li>\n",
        "    <li> The mean of the sample itself is the best prediction for the next measurement </li>\n",
        "</lu>"
      ],
      "metadata": {
        "id": "7_N81CwaVBqN"
      }
    },
    {
      "cell_type": "markdown",
      "source": [
        "### *Residuals* (Error)\n",
        "<ul>\n",
        "    <li> Is the distance from the best fit line to the observed values </li>\n",
        "    <li> Always add up to zero </li>\n",
        "</lu>\n"
      ],
      "metadata": {
        "id": "RzVgQJ6cVFc-"
      }
    },
    {
      "cell_type": "markdown",
      "source": [
        "### *Sum of squared errors* (SSE)\n",
        "<ul>\n",
        "    <li> The goal is to keep it to a minimum </li>\n",
        "</lu>\n"
      ],
      "metadata": {
        "id": "oWR92qrqVISc"
      }
    },
    {
      "cell_type": "markdown",
      "source": [
        "## Multiple Linear Regression\n",
        "> Two or more independent variables are use to predict\n",
        "\n",
        ">Variables\n",
        ">> <ul>\n",
        "    <li> Predictor = independent </li>\n",
        "    <li> Response = dependent </li>\n",
        "    </lu>"
      ],
      "metadata": {
        "id": "Sys5TQxdVOQA"
      }
    },
    {
      "cell_type": "markdown",
      "source": [
        "*Problems*\n",
        "\n",
        "<ul>\n",
        "    <li> Overfitting </li>\n",
        "</lu>\n",
        "\n",
        ">Add more independent variables does not mean the regression will be *better*\n",
        "\n",
        "<ul>\n",
        "    <li> Multicollinearity </li>\n",
        "</lu>\n",
        "\n",
        ">Independent variables are also potentially related to each other"
      ],
      "metadata": {
        "id": "ykRLp-jyVRY_"
      }
    },
    {
      "cell_type": "markdown",
      "source": [
        "### Multiple regression \n",
        ">**Model**\n",
        ">> $y=\\beta_{0} +\\beta_{1} x_{1}+\\beta_{2} x_{2}+...+\\beta_{p} x_{p}+\\epsilon$\n",
        "\n",
        ">**Equation**\n",
        ">> <ul>\n",
        "    <li> $E(y)=\\beta_{0} +\\beta_{1} x_{1}+\\beta_{2} x_{2}+...+\\beta_{p} x_{p}$ </li>\n",
        "    <li> Error term assumed to be zero </li>\n",
        "    </lu>\n",
        "\n",
        ">**Estimated equation**\n",
        ">>  <ul>\n",
        "    <li> $\\hat{y}=b_{0} +b_{1} x_{1}+b_{2} x_{2}+...+b_{p} x_{p} $ </li>\n",
        "    <li> $\\hat{y}$ predict value of the dependent variable </li>\n",
        "    </lu>"
      ],
      "metadata": {
        "id": "p42btc6cVUlm"
      }
    },
    {
      "cell_type": "markdown",
      "source": [
        "By *Elisa Fernanda García Larios*"
      ],
      "metadata": {
        "id": "ZtvxFRt9VYRd"
      }
    }
  ]
}