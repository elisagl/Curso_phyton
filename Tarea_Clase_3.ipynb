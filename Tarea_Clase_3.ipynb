{
  "nbformat": 4,
  "nbformat_minor": 0,
  "metadata": {
    "colab": {
      "name": "Tarea. Clase 3.ipynb",
      "provenance": [],
      "authorship_tag": "ABX9TyMppPhRMb/puOuPVkdGRxKZ",
      "include_colab_link": true
    },
    "kernelspec": {
      "name": "python3",
      "display_name": "Python 3"
    }
  },
  "cells": [
    {
      "cell_type": "markdown",
      "metadata": {
        "id": "view-in-github",
        "colab_type": "text"
      },
      "source": [
        "<a href=\"https://colab.research.google.com/github/elisagl/Curso_phyton/blob/main/Tarea_Clase_3.ipynb\" target=\"_parent\"><img src=\"https://colab.research.google.com/assets/colab-badge.svg\" alt=\"Open In Colab\"/></a>"
      ]
    },
    {
      "cell_type": "markdown",
      "metadata": {
        "id": "UXLpOGd2KCx_"
      },
      "source": [
        "\r\n"
      ]
    },
    {
      "cell_type": "markdown",
      "metadata": {
        "id": "32s4zDYOiAZA"
      },
      "source": [
        "# Tarea\r\n",
        "* Anidar diccionarios (mínimo 2).\r\n",
        "* Que el programa solicite que teclees el valor de las variables, (usar el método de _input()_)\r\n",
        "* Si ingresas enteros o flotantes, que los convierta a su tipo correspondiente (usar entonces _int()_ o _float()_)\r\n",
        "* Luego estas se agreguen al diccionario con el método _update()_\r\n"
      ]
    },
    {
      "cell_type": "markdown",
      "metadata": {
        "id": "c2ymRif-Ds_2"
      },
      "source": [
        "#Elisa Fernanda García "
      ]
    },
    {
      "cell_type": "code",
      "metadata": {
        "id": "X4ypqhbiJ4tz",
        "colab": {
          "base_uri": "https://localhost:8080/"
        },
        "outputId": "43d80c51-3138-4131-8228-43131973ada9"
      },
      "source": [
        "\r\n",
        "#Diccionario\r\n",
        "Alumnos=[\r\n",
        "    {\r\n",
        "      'Nombre': 'Alan',\r\n",
        "      'Edad': '20',\r\n",
        "      'Licenciatura': 'QFB'\r\n",
        "    },\r\n",
        "    {\r\n",
        "      'Nombre': 'Regina',\r\n",
        "      'Edad': '21',\r\n",
        "      'Licenciatura': 'IQ'\r\n",
        "    },\r\n",
        "    {\r\n",
        "      'Nombre': 'Daniel',\r\n",
        "      'Edad': '19',\r\n",
        "      'Licenciatura': 'Biología'\r\n",
        "    }\r\n",
        "]\r\n",
        "\r\n",
        "#Solicita valores\r\n",
        "qfb=int(input('NUA estudiante 1: '))\r\n",
        "iq=int(input('NUA estudiante 2: '))\r\n",
        "bio=int(input('NUA estudiante 3: '))\r\n",
        "\r\n",
        "#Agregar valores\r\n",
        "Alumnos[0].update({'NUA':qfb})\r\n",
        "Alumnos[1].update({'NUA':iq})\r\n",
        "Alumnos[2].update({'NUA':bio})\r\n",
        "\r\n",
        "Alumnos\r\n",
        "\r\n",
        "\r\n"
      ],
      "execution_count": 3,
      "outputs": [
        {
          "output_type": "stream",
          "text": [
            "NUA estudiante 1: 281687\n",
            "NUA estudiante 2: 281179\n",
            "NUA estudiante 3: 268951\n"
          ],
          "name": "stdout"
        },
        {
          "output_type": "execute_result",
          "data": {
            "text/plain": [
              "[{'Edad': '20', 'Licenciatura': 'QFB', 'NUA': 281687, 'Nombre': 'Alan'},\n",
              " {'Edad': '21', 'Licenciatura': 'IQ', 'NUA': 281179, 'Nombre': 'Regina'},\n",
              " {'Edad': '19', 'Licenciatura': 'Biología', 'NUA': 268951, 'Nombre': 'Daniel'}]"
            ]
          },
          "metadata": {
            "tags": []
          },
          "execution_count": 3
        }
      ]
    },
    {
      "cell_type": "code",
      "metadata": {
        "id": "1b4bkAHOJ9U3"
      },
      "source": [
        ""
      ],
      "execution_count": null,
      "outputs": []
    }
  ]
}