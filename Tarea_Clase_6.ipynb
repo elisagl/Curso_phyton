{
  "nbformat": 4,
  "nbformat_minor": 0,
  "metadata": {
    "colab": {
      "name": "Tarea_Clase_6.ipynb",
      "provenance": [],
      "authorship_tag": "ABX9TyM/qmEVI0fZOUQelhPjZ5Di",
      "include_colab_link": true
    },
    "kernelspec": {
      "name": "python3",
      "display_name": "Python 3"
    }
  },
  "cells": [
    {
      "cell_type": "markdown",
      "metadata": {
        "id": "view-in-github",
        "colab_type": "text"
      },
      "source": [
        "<a href=\"https://colab.research.google.com/github/elisagl/Curso_phyton/blob/main/Tarea_Clase_6.ipynb\" target=\"_parent\"><img src=\"https://colab.research.google.com/assets/colab-badge.svg\" alt=\"Open In Colab\"/></a>"
      ]
    },
    {
      "cell_type": "markdown",
      "metadata": {
        "id": "91G0CNZ2A_uh"
      },
      "source": [
        "# Tarea\r\n",
        "\r\n",
        "Multiplicar todos los elementos de una matriz ó lista de listas (de minimo 3x3) por un numero (puede ser el que sea menos 1 y 0) mediante ciclos y despues imprimir la nueva lista, pueden usar más de un ciclo o ciclos dentro de otros ciclos, pero mínimo deben de usar un ciclo"
      ]
    },
    {
      "cell_type": "code",
      "metadata": {
        "colab": {
          "base_uri": "https://localhost:8080/"
        },
        "id": "MoxCVjeUEMa8",
        "outputId": "e513656e-c34c-407f-835a-4d5e18c143e5"
      },
      "source": [
        "#Multiplicación de matriz por escalar \r\n",
        "\r\n",
        "A = [ [9,6,3],[2,4,6],[1,3,5] ]\r\n",
        "print(A)\r\n",
        "escalar=int(input(\"Ingresa el numero a multiplicar por la matriz: \"))\r\n",
        "Mult=1\r\n",
        "for i in range(3):\r\n",
        "  for j in range(3):\r\n",
        "      A[i][j]=A[i][j]*escalar\r\n",
        "\r\n",
        "print(A)"
      ],
      "execution_count": 2,
      "outputs": [
        {
          "output_type": "stream",
          "text": [
            "[[9, 6, 3], [2, 4, 6], [1, 3, 5]]\n",
            "Ingresa el numero a multiplicar por la matriz: 2\n",
            "[[18, 12, 6], [4, 8, 12], [2, 6, 10]]\n"
          ],
          "name": "stdout"
        }
      ]
    }
  ]
}